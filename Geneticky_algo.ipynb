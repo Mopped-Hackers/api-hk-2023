{
 "cells": [
  {
   "cell_type": "code",
   "execution_count": 1,
   "id": "361e01f3",
   "metadata": {},
   "outputs": [
    {
     "name": "stderr",
     "output_type": "stream",
     "text": [
      "C:\\Users\\peter\\anaconda3\\lib\\site-packages\\scipy\\__init__.py:146: UserWarning: A NumPy version >=1.16.5 and <1.23.0 is required for this version of SciPy (detected version 1.24.2\n",
      "  warnings.warn(f\"A NumPy version >={np_minversion} and <{np_maxversion}\"\n"
     ]
    }
   ],
   "source": [
    "import pandas as pd\n",
    "import matplotlib.pyplot as plt\n",
    "import seaborn as sns\n",
    "import numpy as np\n",
    "import random\n",
    "import copy"
   ]
  },
  {
   "cell_type": "code",
   "execution_count": 3,
   "id": "4e831a63",
   "metadata": {},
   "outputs": [],
   "source": [
    "#RANGE = 12"
   ]
  },
  {
   "cell_type": "code",
   "execution_count": 4,
   "id": "daffcebf",
   "metadata": {},
   "outputs": [],
   "source": [
    "def create_facility(toSelect: str) -> [[float]]:\n",
    "    df = pd.read_csv(\"kosice_radius.csv\")\n",
    "    \n",
    "    df = df[df[\"aminity\"] == toSelect]\n",
    "\n",
    "    \n",
    "    df['lat'] = df['lat'].astype(float)\n",
    "    df['lon'] = df['lon'].astype(float)\n",
    "    df['lat_calc'] = df['lat'] - df['lat'].min()\n",
    "    df['lon_calc'] = df['lon'] - df['lon'].min()\n",
    "\n",
    "    df['lon_calc'] = df['lon_calc'].apply(lambda x : round(x,8))\n",
    "    df['lat_calc'] = df['lat_calc'].apply(lambda x : round(x,8))\n",
    "\n",
    "    df['lon_calc'] = df['lon_calc'] * 1000\n",
    "    df['lat_calc'] = df['lat_calc'] * 1000\n",
    "    \n",
    "    #rows, cols = int(df['lon_calc'].max()), int(df['lat_calc'].max())\n",
    "    rows, cols = 91, 52\n",
    "    print(f\"rows - {rows}, cols- {cols}\")\n",
    "\n",
    "    # create a (5,5) array of zeros\n",
    "    arr = np.zeros((cols,rows))\n",
    "\n",
    "    latMax = int(df['lat_calc'].max())\n",
    "    lonMax = int(df['lon_calc'].max())\n",
    "    for index, row in df.iterrows():\n",
    "        lat = int(row['lat_calc']) - 1\n",
    "        lon = int(row['lon_calc']) - 1\n",
    "        for i in range(max(0, lon - RANGE), min(lonMax-1, lon + RANGE)):\n",
    "            for j in range(max(0, lat - RANGE), min(latMax-1, lat + RANGE)):\n",
    "                arr[j][i] += 0.5\n",
    "        arr[lat-1][lon-1] = 1\n",
    "    arr = np.flipud(arr)\n",
    "    return arr, df"
   ]
  },
  {
   "cell_type": "code",
   "execution_count": 5,
   "id": "18205f20",
   "metadata": {},
   "outputs": [],
   "source": [
    "class FitnessFunction:\n",
    "    def __init__(self, pop):\n",
    "        self.reward = 0.5\n",
    "        self.pop = pop\n",
    "        self.fitnessValues = list() \n",
    "            \n",
    "    def fitness_function(self):\n",
    "        for city in self.pop.population:\n",
    "            self.fitnessValues.append(np.sum(city))\n",
    "        self.insertion_sort()\n",
    "    \n",
    "    def insertion_sort(self) -> None:\n",
    "        for i in range(1, len(self.fitnessValues)):\n",
    "     \n",
    "            keyFitness = copy.deepcopy(self.fitnessValues[i])\n",
    "            keyPopulation = copy.deepcopy(self.pop.population[i])\n",
    "            j = i-1\n",
    "            \n",
    "            while j >= 0 and keyFitness > self.fitnessValues[j]:\n",
    "                self.fitnessValues[j + 1] = self.fitnessValues[j]\n",
    "                self.pop.population[j + 1] = self.pop.population[j]\n",
    "                j -= 1\n",
    "                \n",
    "            self.fitnessValues[j + 1] = keyFitness\n",
    "            self.pop.population[j + 1] = keyPopulation\n",
    "        \n",
    "    def resetEssentials(self) -> None:\n",
    "        self.fitnessValues = list()\n",
    "        self.pop.population = list()"
   ]
  },
  {
   "cell_type": "code",
   "execution_count": 70,
   "id": "be6187a4",
   "metadata": {},
   "outputs": [],
   "source": [
    "class Mutation:\n",
    "    def __init__(self, ff: object, initPop: object, numFacilities: int):\n",
    "        self.ff = ff\n",
    "        self.pop = initPop\n",
    "        self.mutation_rate = 0.1\n",
    "        self.crossover_rate = 0.5\n",
    "        self.numBest = 5\n",
    "        self.tries = numFacilities\n",
    "        \n",
    "    def findDifferentValue(self) -> [int]:\n",
    "        probList = list()\n",
    "        for i in range(self.numBest):\n",
    "            p = 1 - self.ff.fitnessValues[i]/sum(self.ff.fitnessValues[:self.numBest])\n",
    "            probList.append(p)\n",
    "        return probList\n",
    "        \n",
    "    def pickBest(self) -> None:\n",
    "        self.bestIndividuals = list()\n",
    "        ps = self.findDifferentValue()\n",
    "        \n",
    "        for _ in range(self.numBest):\n",
    "            randomNum = random.random()\n",
    "            counter = 0\n",
    "            for i in range(len(ps)):\n",
    "                counter += ps[i]\n",
    "                if counter > randomNum:\n",
    "                    self.bestIndividuals.append(copy.deepcopy(self.pop.population[i]))\n",
    "                    break\n",
    "\n",
    "    def randomPicker(self) -> [int]:\n",
    "        randomPickedPop = list()\n",
    "        \n",
    "        for i in range(self.pop.population_size - (self.numBest * 2)):\n",
    "            idx = random.randint(0, self.pop.population_size-1)\n",
    "            randomPickedPop.append(copy.deepcopy(self.pop.population[idx]))\n",
    "        return randomPickedPop\n",
    "    \n",
    "    def checkFacility(self, chromosome):\n",
    "        reward = 2\n",
    "        for gen in chromosome:\n",
    "            if gen > 15 and gen >= 1:\n",
    "                reward -= 0.015\n",
    "        return round(reward,2)\n",
    "    \n",
    "    def mutationClassic(self, chromosome: [int]) -> [int]:\n",
    "        for num in range(self.tries):\n",
    "            i = random.randint(RANGE, len(chromosome)-RANGE)\n",
    "            j = random.randint(RANGE, len(chromosome[i])-RANGE)\n",
    "            for k in range(RANGE):\n",
    "                chromosome[i-k][j-RANGE:j+RANGE] += self.checkFacility(chromosome[i-k][j-RANGE:j+RANGE])\n",
    "\n",
    "            for k in range(1,RANGE):\n",
    "                chromosome[i+k][j-RANGE:j+RANGE] += self.checkFacility(chromosome[i+k][j-RANGE:j+RANGE])\n",
    "\n",
    "        return chromosome\n",
    "\n",
    "    def selection(self, randomPickedPop: [int]) -> None:\n",
    "        self.ff.resetEssentials()\n",
    "        numbers = [i for i in range(len(randomPickedPop))]\n",
    "        \n",
    "        for i in range(0,len(randomPickedPop)):        \n",
    "            if random.random() <= self.mutation_rate:\n",
    "                randomPickedPop[i] = self.mutationClassic(randomPickedPop[i])\n",
    "            \n",
    "            self.pop.population.append(copy.deepcopy(randomPickedPop[i]))\n",
    "        \n",
    "\n",
    "        for i in range(len(self.bestIndividuals)):\n",
    "            self.pop.population.append(copy.deepcopy(self.bestIndividuals[i]))\n",
    "\n",
    "        self.ff.fitness_function()\n",
    "        \n",
    "    def mainLoop(self) -> None:\n",
    "        self.pickBest()\n",
    "        randomPickedPop = self.randomPicker()\n",
    "        \n",
    "        for i in range(len(self.bestIndividuals)):\n",
    "            randomPickedPop.append(copy.deepcopy(self.bestIndividuals[i]))\n",
    "            \n",
    "        random.shuffle(randomPickedPop)\n",
    "        self.selection(randomPickedPop)\n",
    "\n",
    "class Population:\n",
    "    def __init__(self):\n",
    "        self.population = list()\n",
    "        self.population_size = 1000\n",
    "        \n",
    "    def generate_population(self, city):\n",
    "        for i in range(self.population_size):\n",
    "            self.population.append(copy.deepcopy(city))"
   ]
  },
  {
   "cell_type": "code",
   "execution_count": 71,
   "id": "858cd01c",
   "metadata": {},
   "outputs": [],
   "source": [
    "def request_func(toSelect: str, numFacilities: int, radius: int):\n",
    "    global RANGE\n",
    "    RANGE = radius\n",
    "    arr, selected_df = create_facility(toSelect)\n",
    "    \n",
    "    pop = Population()\n",
    "    pop.generate_population(arr)\n",
    "\n",
    "    ff = FitnessFunction(pop)\n",
    "    ff.fitness_function()\n",
    "    print(ff.fitnessValues[:5])\n",
    "\n",
    "    mut = Mutation(ff, pop, numFacilities)\n",
    "    mut.mainLoop()\n",
    "    print(ff.fitnessValues[:5])\n",
    "    \n",
    "    arr2 = copy.deepcopy(pop.population[0])\n",
    "    return arr2, arr\n",
    "    # replace the zeros with -1 using the mask"
   ]
  },
  {
   "cell_type": "code",
   "execution_count": 95,
   "id": "b1fdb719",
   "metadata": {},
   "outputs": [
    {
     "name": "stdout",
     "output_type": "stream",
     "text": [
      "rows - 91, cols- 52\n",
      "[23443.0, 23443.0, 23443.0, 23443.0, 23443.0]\n",
      "[25291.0, 25291.0, 25291.0, 25291.0, 25291.0]\n"
     ]
    }
   ],
   "source": [
    "toSelect = \"School\"\n",
    "\n",
    "arr1, arr = request_func(toSelect, 2, 11)"
   ]
  },
  {
   "cell_type": "code",
   "execution_count": 96,
   "id": "08d360ca",
   "metadata": {
    "scrolled": false
   },
   "outputs": [
    {
     "name": "stdout",
     "output_type": "stream",
     "text": [
      "['Shop' 'School' 'Transport' 'Job' 'Sport' 'GreenPlace'\n",
      " 'Special mediacal care' 'Hospital' 'Drug store' 'culture']\n",
      "rows - 91, cols- 52\n"
     ]
    },
    {
     "data": {
      "text/plain": [
       "<AxesSubplot:>"
      ]
     },
     "execution_count": 96,
     "metadata": {},
     "output_type": "execute_result"
    },
    {
     "data": {
      "image/png": "[encoded data removed]",
      "text/plain": [
       "<Figure size 1080x720 with 2 Axes>"
      ]
     },
     "metadata": {},
     "output_type": "display_data"
    }
   ],
   "source": [
    "df = pd.read_csv(\"kosice_radius.csv\")\n",
    "\n",
    "print(df.aminity.unique())\n",
    "df = df[df[\"aminity\"] == toSelect]\n",
    "\n",
    "\n",
    "df['lat'] = df['lat'].astype(float)\n",
    "df['lon'] = df['lon'].astype(float)\n",
    "df['lat_calc'] = df['lat'] - df['lat'].min()\n",
    "df['lon_calc'] = df['lon'] - df['lon'].min()\n",
    "\n",
    "df['lon_calc'] = df['lon_calc'].apply(lambda x : round(x,8))\n",
    "df['lat_calc'] = df['lat_calc'].apply(lambda x : round(x,8))\n",
    "\n",
    "df['lon_calc'] = df['lon_calc'] * 1000\n",
    "df['lat_calc'] = df['lat_calc'] * 1000\n",
    "\n",
    "#rows, cols = int(df['lon_calc'].max()), int(df['lat_calc'].max())\n",
    "rows, cols = 91, 52\n",
    "print(f\"rows - {rows}, cols- {cols}\")\n",
    "\n",
    "# create a (5,5) array of zeros\n",
    "arr = np.zeros((cols,rows))\n",
    "\n",
    "latMax = int(df['lat_calc'].max())\n",
    "lonMax = int(df['lon_calc'].max())\n",
    "for index, row in df.iterrows():\n",
    "    lat = int(row['lat_calc']) - 1\n",
    "    lon = int(row['lon_calc']) - 1\n",
    "    for i in range(max(0, lon - RANGE), min(lonMax-1, lon + RANGE)):\n",
    "        for j in range(max(0, lat - RANGE), min(latMax-1, lat + RANGE)):\n",
    "            arr[j][i] += 0.5\n",
    "    arr[lat-1][lon-1] = 1\n",
    "arr = np.flipud(arr)\n",
    "\n",
    "sns.heatmap(arr)"
   ]
  },
  {
   "cell_type": "code",
   "execution_count": 97,
   "id": "013d25b7",
   "metadata": {},
   "outputs": [
    {
     "data": {
      "text/plain": [
       "<AxesSubplot:>"
      ]
     },
     "execution_count": 97,
     "metadata": {},
     "output_type": "execute_result"
    },
    {
     "data": {
      "image/png": "[encoded data removed]",
      "text/plain": [
       "<Figure size 1080x720 with 2 Axes>"
      ]
     },
     "metadata": {},
     "output_type": "display_data"
    }
   ],
   "source": [
    "sns.set(rc={'figure.figsize':(15,10)})\n",
    "sns.heatmap(arr1)"
   ]
  },
  {
   "cell_type": "code",
   "execution_count": 40,
   "id": "537a3349",
   "metadata": {},
   "outputs": [],
   "source": [
    "df = pd.read_csv(\"kosice_radius.csv\")"
   ]
  },
  {
   "cell_type": "code",
   "execution_count": 38,
   "id": "19360ef9",
   "metadata": {},
   "outputs": [],
   "source": [
    "df.to_json(\"kosice_radius.json\", orient=\"records\")"
   ]
  },
  {
   "cell_type": "code",
   "execution_count": null,
   "id": "9c664efd",
   "metadata": {},
   "outputs": [],
   "source": []
  }
 ],
 "metadata": {
  "kernelspec": {
   "display_name": "Python 3 (ipykernel)",
   "language": "python",
   "name": "python3"
  },
  "language_info": {
   "codemirror_mode": {
    "name": "ipython",
    "version": 3
   },
   "file_extension": ".py",
   "mimetype": "text/x-python",
   "name": "python",
   "nbconvert_exporter": "python",
   "pygments_lexer": "ipython3",
   "version": "3.8.8"
  }
 },
 "nbformat": 4,
 "nbformat_minor": 5
}
